{
 "cells": [
  {
   "cell_type": "markdown",
   "id": "0e42daf4",
   "metadata": {},
   "source": [
    "Python implementation of fractionally differentiated features using the iterative method to compute the weights for each lag"
   ]
  },
  {
   "cell_type": "code",
   "execution_count": 3,
   "id": "6dbd7e87",
   "metadata": {},
   "outputs": [],
   "source": [
    "import numpy as np"
   ]
  },
  {
   "cell_type": "code",
   "execution_count": 2,
   "id": "689829e0",
   "metadata": {},
   "outputs": [],
   "source": [
    "def frac_diff(series, d, thresh=1e-5):\n",
    "    \"\"\"\n",
    "    Fractionally differentiate a time series with a real-valued degree of differencing (d).\n",
    "\n",
    "    Args:\n",
    "    - series: array-like, the time series to be fractionally differentiated.\n",
    "    - d: float, the degree of differencing.\n",
    "    - thresh: float, the threshold below which the weights of the fractionally differentiated series are truncated.\n",
    "\n",
    "    Returns:\n",
    "    - diff_series: array-like, the fractionally differentiated time series.\n",
    "    \"\"\"\n",
    "\n",
    "    # Compute weights for each lag\n",
    "    weights = [1.]\n",
    "    for k in range(1, len(series)):\n",
    "        weights.append(-weights[-1] * (d - k + 1) / k)\n",
    "\n",
    "    # Apply weights to the original series\n",
    "    diff_series = np.zeros_like(series)\n",
    "    for t in range(len(weights), len(series)):\n",
    "        diff_series[t] = np.dot(weights[-1::-1], series[t-len(weights):t])\n",
    "\n",
    "    # Truncate weights that are too small\n",
    "    diff_series = diff_series[np.abs(diff_series) > thresh]\n",
    "\n",
    "    return diff_series\n"
   ]
  },
  {
   "cell_type": "markdown",
   "id": "f2ad5c5c",
   "metadata": {},
   "source": [
    "We can use teh above function by passing in a time series, a real-valued degree of differencing (d), and an optional threshold below which the weights of the fractionally differentiated series are truncated. The function returns the fractionally differentiated time series.\n"
   ]
  },
  {
   "cell_type": "code",
   "execution_count": null,
   "id": "30cad3df",
   "metadata": {},
   "outputs": [],
   "source": []
  }
 ],
 "metadata": {
  "kernelspec": {
   "display_name": "Python 3 (ipykernel)",
   "language": "python",
   "name": "python3"
  },
  "language_info": {
   "codemirror_mode": {
    "name": "ipython",
    "version": 3
   },
   "file_extension": ".py",
   "mimetype": "text/x-python",
   "name": "python",
   "nbconvert_exporter": "python",
   "pygments_lexer": "ipython3",
   "version": "3.7.16"
  }
 },
 "nbformat": 4,
 "nbformat_minor": 5
}
