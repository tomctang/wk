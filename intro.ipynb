{
 "cells": [
  {
   "cell_type": "markdown",
   "metadata": {
    "id": "cW61j1Dw9ABL"
   },
   "source": [
    "# Introduction\n",
    "\n",
    "I'm currently working on [Quantitative Research](../wk/00QC.ipynb).\n",
    "\n",
    "[My Profile](https://ctang.netlify.app/), please send me email: "
   ]
  },
  {
   "cell_type": "markdown",
   "metadata": {},
   "source": [
    "## Qunat research"
   ]
  },
  {
   "cell_type": "markdown",
   "metadata": {},
   "source": [
    "Terms: \n",
    "\n",
    "\n",
    "- [Quantconnect](https://github.com/QuantConnect): platform for quant trading\n",
    "  - `docker pull quantconnect/lean`\n",
    "  - `docker pull quantconnect/research` \n",
    "- Quantconnect lean: Lean is the open-source algorithmic trading engine that powers QuantConnect\n",
    "- Lean CLI: \n",
    "  - is a command interface for running lean engine, and to allow syncing btw local and remote projects\n",
    "  - can be installed and updated by running `pip install --upgrade lean`(Python package)\n",
    "- "
   ]
  },
  {
   "cell_type": "markdown",
   "metadata": {
    "id": "pWioGU5SApZm"
   },
   "source": [
    "## Image & Cross-citations\n",
    "\n",
    "> Image-Hosting\n",
    "\n",
    "All figures are synchronised in Tom's GitHub folder `./NB_img/`. Using codes to insert pic:\n",
    "\n",
    "`<img src=\"https://raw.githubusercontent.com/tomctang/NB_img/main/3bias.png\" alt=\"Causality-confounder\" width=\"500\">`\n",
    "\n",
    "Markdown image **center**:\n",
    "\n",
    "`<div align=center>![Figure. Various treatments choice for OA](https://raw.githubusercontent.com/ctang83/NB_img/main/EPS_OAtreat.jpg){width=60%}`\n",
    "\n",
    "> Cross-citations\n",
    "\n",
    "Header automatically generate {#mathFP}, so`[anytext](#mathFP)` in citing\n",
    "\n",
    "Between pages: `[Discrete & Continuous](../10pe/02discrete_continuous.ipynb#discrete-continuous)`(ipynb auto changed to html in website)"
   ]
  }
 ],
 "metadata": {
  "colab": {
   "provenance": [],
   "toc_visible": true
  },
  "kernelspec": {
   "display_name": "SageMath 10.5",
   "language": "sage",
   "name": "sagemath"
  },
  "language_info": {
   "name": "sage",
   "version": "3.12.3"
  }
 },
 "nbformat": 4,
 "nbformat_minor": 0
}
