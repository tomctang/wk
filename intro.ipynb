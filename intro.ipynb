{
 "cells": [
  {
   "cell_type": "markdown",
   "metadata": {
    "id": "cW61j1Dw9ABL"
   },
   "source": [
    "# Introduction\n",
    "\n",
    "I'm currently working on [Methods](../10pe/MCM.ipynb).\n",
    "\n",
    "Any questions, please send me email: jonny.tang745@education.nsw.gov.au"
   ]
  },
  {
   "cell_type": "markdown",
   "metadata": {
    "id": "vj6j6iPy9ABV"
   },
   "source": [
    "\n",
    "> **Project Euler (PE)**\n",
    "\n",
    "Jonny workbook started from [Project Euler](https://projecteuler.net/). Jonny loves coding and number theory, especially the PE-style (VS. CS-style) when he was 10YO. Therefore, Tom assisted him with guidance and searching hidden info and knowledge.\n",
    "\n",
    "PE problems can be solved using multiple approaches and often involve a combination of techniques.\n",
    "\n",
    "- Sometimes, I face math problems while coding is easy, e.g. 99-Largest Exponential\n",
    "- Sometimes, I face computational (or programming) problems while math is easy, e.g. 187-Semiprimes (very time-consuming)\n",
    "\n",
    "So, I need two streams of knowledge to solve PE: 1) Math: see [PE-Hidden-Math](../10pe/00intro_math.ipynb#pe-hidden-math) where I present math by PE questions and math-topics; and 2) [CS or Programming](https://github.com/leduckhai/Awesome-Competitive-Programming?tab=readme-ov-file)\n",
    "\n",
    "> **Mathematics & FP & Language** (updating)\n",
    "\n",
    "In 2024, Jonny went through 4U math (HSC-NSW) once, Tom chose A-level math for Jonny's review and progress, with a approach of computational coding for A-level math. In this workbook, Jonny worked on A-level and A-level further which are transitional-math between secondary and tertiary education.\n",
    "\n",
    "- [A-level math](https://www.edx.org/learn/math/imperial-college-london-a-level-mathematics-for-year-12-course-1-algebraic-methods-graphs-and-applied-mathematics-methods), including four courses\n",
    "- [A-level further math](https://www.edx.org/learn/math/imperial-college-london-a-level-further-mathematics-for-year-12-course-2-3-x-3-matrices-mathematical-induction-calculus-methods-and-applications-maclaurin-series-complex-numbers-and-polar-coordinates) (updating), including four courses\n",
    "\n",
    "Go along with A-level math, Tom summarised math, functional programming (**FP**), and linguistics (natural languages). Tom advocates [6. Math-FP-Lang Combo](../10pe/00intro_math.ipynb) in guiding kids learning. \n",
    "\n",
    "> **CS-Python & Physics** (updating)\n",
    "\n",
    "I already finished these two courses in 2024 as below, and a physics in 2025 (planned). My notes are included in this workbook:\n",
    "- [Mathematical and Computational Methods](https://www.edx.org/learn/math/georgetown-university-mathematical-and-computational-methods): learning Physics through Math (updating)\n",
    "- [MITx-6.00.1x-Introduction to Computer Science and Programming Using Python](https://learning.edx.org/course/course-v1:MITx+6.00.1x+1T2024/home)\n",
    "- [MITx-6.00.2x-Introduction to Computational Thinking and Data Science](https://learning.edx.org/course/course-v1:MITx+6.00.2x+1T2024/home)\n",
    "\n",
    "For more online courses that I have finished, refer to [my LinkedIn certificates](https://www.linkedin.com/in/jonny-jingzhe-tang-853a57274/details/certifications/)\n",
    "> **Others**\n",
    "\n",
    "Geography, Maps, Lottery math\n",
    "\n",
    "> **For help**\n",
    "\n",
    "- For questions about phys, try [Physics Stack Exchange](https://physics.stackexchange.com/). For research-level questions, [Physics Overflow.](https://physicsoverflow.org/)\n",
    "- For questions about math, try [Math Stack Exchange](https://math.stackexchange.com/). for research-level questions, [Math Overflow.](https://mathoverflow.net/)\n",
    "- For more free-wheeling discussions of math and physics, try [Physics Forums.](https://www.physicsforums.com/)"
   ]
  },
  {
   "cell_type": "code",
   "execution_count": null,
   "metadata": {
    "vscode": {
     "languageId": "wolfram"
    }
   },
   "outputs": [],
   "source": [
    "(*Convert nb file into vsnb using the wl coding*)\n",
    "Get[\"Mathematica2VSCode.wl\"] \n",
    "Needs[\"Mathematica2VSCode`\"]\n",
    "Mathematica2VSCode[\"aa.nb\"]  (*path and specific MMA notebook*)"
   ]
  },
  {
   "cell_type": "markdown",
   "metadata": {
    "id": "m0HoOnSaau6d",
    "jp-MarkdownHeadingCollapsed": true
   },
   "source": [
    "### Math packages\n",
    "\n",
    "Three large-scale mathematical software packages:\n",
    "\n",
    "1. Numerical computing systems: floating point, accurate estimation, numerical analysis. Matlab, Octave\n",
    "2. Computer algebra system: exact computation, view $\\pi$ as a symbol instead of a decimal number, symbolic computation/computer algebra/computational algebra\n",
    "3. Statistical packages: SAS, R\n",
    "\n",
    "### Haskell\n",
    "\n",
    "`cabal init --interactive`(Haskell project)\n",
    "    \n",
    ">IHaskell in Ubuntu\n",
    "\n",
    "1.  A. step-by-step to avoid skipping; B.if using IHaskell packages, the ipynb must locate in IHaskell folder\n",
    "    - sudo apt-get install -y python3-pip git libtinfo-dev libzmq3-dev libcairo2-dev libpango1.0-dev libmagic-dev libblas-dev liblapack-dev\n",
    "    - curl -sSL https://get.haskellstack.org/ | sh  # install stack \n",
    "    - export PATH=\"/usr/local/bin:$PATH\"\n",
    "    - export PATH=\"/home/tom/.local/bin:$PATH\"\n",
    "    - git clone https://github.com/gibiansky/IHaskell \n",
    "    - cd IHaskell\n",
    "    - pip3 install -r requirements.txt -break-system-packages  # install Python requirements\n",
    "    - stack install --fast  # install ihaskell\n",
    "    - ihaskell install --stack   # install the Jupyter kernelspec with ihaskell\n",
    "    - Restart PC and make sure Jupyter access fully\n",
    "        - jupyter notebook --generate-config\n",
    "        - nano ~/.jupyter/jupyter_notebook_config.py\n",
    "        - add into: \n",
    "        - c.NotebookApp.token = ''\n",
    "        - c.NotebookApp.password = ''\n",
    "        - c.NotebookApp.allow_origin = '*'\n",
    "        - c.NotebookApp.allow_root = True\n",
    "    - make sure lts = 22.10 (consist to Github version)\n",
    "        - nano /home/tom/.stack/global-project/stack.yaml\n",
    "    - In IHaskell folder, run `stack exec jupyter -- notebook`\n",
    "        - or Click Jupyter icon at Dash\n",
    "\n",
    ">IHaskell in docker:\n",
    "\n",
    "1. IHaskell computation = **Docker + Haskell + Jupyter** (Docker building: 1. download [zip](https://github.com/IHaskell/IHaskell), 2. go to Docker terminal, run `\"docker build -t ihaskell:latest .\"`)\n",
    "    - Haskell's interpreter: IHaskell, [HyperHaskell](https://github.com/HeinrichApfelmus/hyper-haskell), ptGHCi\n",
    "    - I am using [ihaskell-notebook Docker image](https://github.com/IHaskell/ihaskell-notebook): JupyterLab version is low, unable to use AutoCompletion.\n",
    "    - can also use [IHaskell docker](https://github.com/IHaskell/IHaskell) and [Docker build py](https://gist.github.com/brandonchinn178/928d6137bfd17961b9584a8f96c18827)\n",
    "    - [IHaskell disscusion](https://github.com/IHaskell/IHaskell/issues/715) for reference\n",
    "\n",
    ">wsl2-Ubuntu-Haskell in windows:\n",
    "\n",
    "1. Microsoft Store -> search 'Ubuntu' and install (345 MB)\n",
    "1. Open Ubuntu in Windows, update by:\n",
    "    - sudo apt update\n",
    "    - sudo apt install build-essential -y\n",
    "    - sudo apt install make -y\n",
    "    - sudo apt install automake -y\n",
    "\n",
    ">windows-msys2-Haskell in powershell:\n",
    "\n",
    "1. Two lauch commands:\n",
    "    - `ghci` is the interactive environment of the GHC compiler itself\n",
    "    - `stack ghci` is the interactive environment of the Stack build tool: 1) automatically handles dependency and installation (VS. GHC and Cabal), 2) config to install packages C:\\Users\\tangc\\AppData\\Roaming\\stack\\global-project\\stack.yaml\n",
    "\n",
    "### More\n",
    "\n",
    "1. Mathematics and Self-Study Roadmaps\n",
    "    - [The Map of Mathematics](https://www.youtube.com/watch?v=OmJ-4B-mS-Y)\n",
    "    - [How to self study pure math - a step-by-step guide](https://www.youtube.com/watch?v=byNaO_zn2fI)\n",
    "1. Python packages\n",
    "    - [diagrams](https://diagrams.mingrammer.com/): Coding diagrams\n",
    "    - [manim](https://www.manim.community/): Math Animation\n",
    "    - [handcalcs](https://github.com/connorferster/handcalcs): render calculation as if it were written with a pencil: write the symbolic formula, then numeric substitutions, and then show result automatically\n",
    "1. Website Management\n",
    "    - Git and GitHub\n",
    "1. Project Management\n",
    "    - Visual Studio Code\n",
    "1. Citations and Bibliographies\n",
    "    - Zotero: a free, easy-to-use tool to help you collect, organize, cite, and share research. I use Zotero to generate .bib files\n"
   ]
  },
  {
   "cell_type": "markdown",
   "metadata": {
    "id": "pWioGU5SApZm"
   },
   "source": [
    "## OOP to FP\n",
    "\n",
    "We started workbook using Python in OOP (Object-oriented Programming) way, then we move to FP (Functional Programming) way in both MMA and Python.\n",
    "\n",
    "Even though both Python and Wolfram are not pure FP, they do help us understand the FP way.\n",
    "- From my view, OOP coding is more natural language, FP is more math lanuage.\n",
    "\n",
    "FP\n",
    "1. [FP books](https://old.reddit.com/r/functionalprogramming/wiki/books)\n",
    "1. [Adabeat - Ease into](https://adabeat.com/fp/ease-into-functional-programming/?_gl=1*1r4s1nz*_up*MQ..*_ga*NDgxNzc4NDQ0LjE3MzA4MTAwMTg.*_ga_6RQG15HSGT*MTczMDgxMDAxNy4xLjAuMTczMDgxMDAxNy4wLjAuMA..)\n",
    "1. [PE solutions in Java, Python, Mathematica, Haskell](https://github.com/nayuki/Project-Euler-solutions): Nayuki use OOP in Python and FP in Haskell.\n",
    "\n",
    "FP - languages\n",
    "1. [FP in Python](https://expression.readthedocs.io/en/latest/intro.html): a web-notebook for beginner.\n",
    "1. [SageMath - FP4Mathematicians](https://doc.sagemath.org/html/en/thematic_tutorials/functional_programming.html#)\n",
    "1. [FP in Wolfram](https://reference.wolfram.com/language/guide/FunctionalProgramming.html): official website.\n",
    "\n",
    "Why no Matlab? To model and simulate dynamic systems\n",
    "- Simulink(Matlab) uses a signal flow-based or causal approach, \n",
    "- while Modelica uses an equation-based or acausal approach. – still OOP vs. FP\n",
    "\n",
    "\n",
    "## Image & Cross-citations\n",
    "\n",
    "> Image-Hosting\n",
    "\n",
    "All figures are synchronised in Tom's GitHub folder `./NB_img/`. Using codes to insert pic:\n",
    "\n",
    "`<img src=\"https://raw.githubusercontent.com/tomctang/NB_img/main/3bias.png\" alt=\"Causality-confounder\" width=\"500\">`\n",
    "\n",
    "Markdown image **center**:\n",
    "\n",
    "`<div align=center>![Figure. Various treatments choice for OA](https://raw.githubusercontent.com/ctang83/NB_img/main/EPS_OAtreat.jpg){width=60%}`\n",
    "\n",
    "> Cross-citations\n",
    "\n",
    "Header automatically generate {#mathFP}, so`[anytext](#mathFP)` in citing\n",
    "\n",
    "Between pages: `[Discrete & Continuous](../10pe/02discrete_continuous.ipynb#discrete-continuous)`(ipynb auto changed to html in website)"
   ]
  }
 ],
 "metadata": {
  "colab": {
   "provenance": [],
   "toc_visible": true
  },
  "kernelspec": {
   "display_name": "SageMath 10.5",
   "language": "sage",
   "name": "sagemath"
  },
  "language_info": {
   "name": "sage",
   "version": "3.12.3"
  }
 },
 "nbformat": 4,
 "nbformat_minor": 0
}
