{
 "cells": [
  {
   "cell_type": "markdown",
   "metadata": {
    "id": "cW61j1Dw9ABL"
   },
   "source": [
    "# Introduction\n",
    "\n",
    "[My Profile](https://ctang.netlify.app/), please send me email. I'm currently working on [Quantitative Research](../wk/00QC.ipynb).\n"
   ]
  },
  {
   "cell_type": "markdown",
   "metadata": {
    "id": "pWioGU5SApZm"
   },
   "source": [
    "## Docker pull\n",
    "\n",
    "My phone internet limitation, so I can't use usual docker pull. Instead, use [docker-drag](https://github.com/heran226813/docker-drag). \n",
    "Open terminal, example: \n",
    "- `python3 docker_pull.py sagemath`\n",
    "- `docker load -i sagemath.tar`\n",
    "- `docker run -it sagemath`\n",
    "\n",
    "## Image & Cross-citations\n",
    "\n",
    "> Image-Hosting\n",
    "\n",
    "All figures are synchronised in Tom's GitHub folder `./NB_img/`. Using codes to insert pic:\n",
    "\n",
    "`<img src=\"https://raw.githubusercontent.com/tomctang/NB_img/main/3bias.png\" alt=\"Causality-confounder\" width=\"500\">`\n",
    "\n",
    "Markdown image **center**:\n",
    "\n",
    "`<div align=center>![Figure. Various treatments choice for OA](https://raw.githubusercontent.com/ctang83/NB_img/main/EPS_OAtreat.jpg){width=60%}`\n",
    "\n",
    "> Cross-citations\n",
    "\n",
    "Header automatically generate {#mathFP}, so`[anytext](#mathFP)` in citing\n",
    "\n",
    "Between pages: `[Discrete & Continuous](../10pe/02discrete_continuous.ipynb#discrete-continuous)`(ipynb auto changed to html in website)"
   ]
  }
 ],
 "metadata": {
  "colab": {
   "provenance": [],
   "toc_visible": true
  },
  "kernelspec": {
   "display_name": "base",
   "language": "python",
   "name": "python3"
  },
  "language_info": {
   "name": "python",
   "version": "3.13.2"
  }
 },
 "nbformat": 4,
 "nbformat_minor": 0
}
