{
 "cells": [
  {
   "cell_type": "markdown",
   "id": "c17a175b",
   "metadata": {},
   "source": [
    "# Qunat research"
   ]
  },
  {
   "cell_type": "markdown",
   "id": "39eca012",
   "metadata": {},
   "source": [
    "Terms: \n",
    "\n",
    "\n",
    "- [Quantconnect](https://github.com/QuantConnect): platform for quant trading\n",
    "  - `docker pull quantconnect/lean`\n",
    "  - `docker pull quantconnect/research` \n",
    "- Quantconnect lean: Lean is the open-source algorithmic trading engine that powers QuantConnect\n",
    "- Lean CLI: \n",
    "  - is a command interface for running lean engine, and to allow syncing btw local and remote projects\n",
    "  - can be installed and updated by running `pip install --upgrade lean`(Python package)\n",
    "- "
   ]
  }
 ],
 "metadata": {
  "language_info": {
   "name": "python"
  }
 },
 "nbformat": 4,
 "nbformat_minor": 5
}
