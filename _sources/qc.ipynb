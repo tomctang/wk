{
 "cells": [
  {
   "cell_type": "markdown",
   "id": "7a93c7a2",
   "metadata": {},
   "source": [
    "# Qunat research"
   ]
  },
  {
   "cell_type": "markdown",
   "id": "4d5e81fe",
   "metadata": {},
   "source": [
    "## Intro"
   ]
  },
  {
   "cell_type": "markdown",
   "id": "c401aaed",
   "metadata": {},
   "source": [
    "1. 炒股的三大原理\n",
    "   - 人的精力是有限的\n",
    "   - 所有的投资理论都有正确的时候\n",
    "   - 投资标的的走势由市场的几何结构和能量决定: 市场的几何结构包括图形，成交，比价，市场偏好等，是可以观察和量化的，但同样的几何结构却可以有不同的演变，因为市场能量是参与者当下的合力，是不可预测的，但可预期，操作者唯一需要做的就是根据现实去预期和修正。\n",
    "1. 怎么识别一本量化交易的书是不是好书。\n",
    "   - 看作者, 比如《Systematic Trading》的作者Robert，他是一个退休的对冲基金经理，所以他的书观点更加专业，而且经过实践的检验。\n",
    "   - 《Algorithmic Trading》的作者 Chan，他做过机构投资，但是转为自营，他的书更加偏重个人或者散户投资人，但是相比起来，系统性就会差一些。\n",
    "   - 《Python for Algorithmic Trading》的作者 Yves，他是学院出身，主要工作是研究和写作，他的书籍显然更加适合初学者，而且写的比较具体和细致，适合没基础的人跟着操作，但是从深度和框架角度会较差一些。\n",
    "1. International Quant Championship (IQC) by WorldQuant is one of the largest and most structured quant competitions globally\n",
    "   - For early-career quant, IQC is the most accessible and respected global quant tournament with university rankings. But if you're looking to build and monetize strategies, QuantConnect and Numerai are where real-world impact starts.\n",
    "\n",
    "**log or QA**\n",
    "\n",
    "1. 这几个是高频用的吗？\n",
    "   - [ArcticDB: high performance, serverless DataFrame database for Python Data ecosystem](https://github.com/man-group/ArcticDB)\n",
    "   - [opentsdb: free scalable, distributed Time Series Database](https://github.com/OpenTSDB/opentsdb)\n",
    "   - [timescaledb: time-series database for high-performance real-time analytics packaged as a Postgres extension](https://github.com/timescale/timescaledb)\n"
   ]
  },
  {
   "cell_type": "markdown",
   "id": "5139f114",
   "metadata": {},
   "source": [
    "## Work flow"
   ]
  },
  {
   "cell_type": "markdown",
   "id": "2b6c1c68",
   "metadata": {},
   "source": [
    "1. [Composer.trade](https://www.composer.trade/), Alpaca.markets和QuantConnect.com之类的在线交易平台online-trading platform\n",
    "   - Composer has 11000只股票和ETF中选择，为其构建策略, 构建、测试和押注量化交易算法,图形和AI界面(英语输入请求转化为代码)，\n",
    "   - 可以让用户以简单流程图的形式查看和分享他们的策略 e.g. 如果标准普尔500指数S&P 500 index最近走高，某种算法会选择持有跟踪纳斯达克100指数的三倍杠杆ETF - triple-leveraged exchange-traded fund tracking the Nasdaq-100 index，反之，则持有美国国债Treasury bills\n",
    "   - 在Interactive Brokers这类平台上编写交易策略。最近他在Discord上面分享策略后得到了一个想法half-baked idea，用跟踪半导体类股的ETF取代了跟踪纳斯达克100指数的ETF，从而改善了其中一项交易策略的表现\n",
    "\n",
    "1. [Quantconnect](https://github.com/QuantConnect): platform for quant trading\n",
    "   - `docker pull quantconnect/lean` or `quantconnect/research` \n",
    "   - Quantconnect lean: Lean is the open-source algorithmic trading engine that powers QuantConnect\n",
    "   - Lean CLI: \n",
    "     - is a command interface for running lean engine, and to allow syncing btw local and remote projects\n",
    "     - can be installed and updated by running `pip install --upgrade lean`(Python package)\n",
    "\n",
    "1. A股 online pkg comparison\n",
    "   - [mayanghua/instock](https://github.com/myhhub/stock?tab=readme-ov-file) 获取股票数据,计算股票指标,筹码分布,识别股票形态,综合选股,选股策略,股票验证回测,股票自动交易, docker支持PC及移动设备\n",
    "   - 勉强进入 http://localhost:9988/, add `sudo` in advance\n",
    "   - [easyquant](https://github.com/shidenggui/easyquant)A股量化框架，支持行情获取以及交易\n",
    "   - [easyquotation](https://github.com/shidenggui/easyquotation?tab=readme-ov-file)|实时获取免费股票行情，支持新浪 / 腾讯(港股) / 集思录|\n",
    "   - [easytrader](https://github.com/shidenggui/easytrader)|提供同花顺客户端/miniqmt/雪球的股票量化交易，支持跟踪 joinquant /ricequant 模拟交易 和 实盘雪球组合|\n",
    "   - [Funcat](https://github.com/ricequant/funcat) --> [MyTT](https://github.com/mpquant/MyTT)|同花顺、通达信、文华财经麦语言等公式的表达十分简洁，适合做技术分析, \n",
    "     - MyTT将通达信,同花顺,文华麦语言等指标公式,最简移植到Python中,核心库单个文件，仅百行代码,十几个核心函数，神奇的实现所有常见技术指标算法（不依赖talib库）的纯python实现和转换通达信MACD,RSI,BOLL,ATR,KDJ,CCI,PSY等公式,全部基于pandas函数计算方法封装，简洁且高性能，能非常方便的应用在股票指标公式,股市期货量化框架分析,自动程序化交易,数字货币\n"
   ]
  },
  {
   "cell_type": "markdown",
   "id": "2158d5bf",
   "metadata": {},
   "source": [
    "\n",
    "| **数据** | |\n",
    "| --- | ---|\n",
    "|[AKShare](https://github.com/akfamily/akshare) |elegant/simple financial data library, built for human beings开源财经数据接口库 |\n",
    "| **回测/开发** | |\n",
    "|[FinnewsHunter](https://github.com/DemonDamon/FinnewsHunter)|从新浪财经、每经网、金融界、中国证券网、证券时报网上，爬取上市公司（个股）的历史新闻文本数据进行文本分析、提取特征集，然后利用SVM、随机森林等分类器进行训练，最后对实施抓取的新闻数据进行分类预测|\n",
    "|[stock_market](https://github.com/wbbhcb/stock_market)||\n",
    "|[alphas](https://github.com/popbo/alphas)| ipynb, 利用了这个项目[alphalens](https://github.com/quantopian/alphalens)|\n",
    "| [autoxd](https://github.com/nessessary/autoxd) | 回测框架, 模拟实盘账户交易, 适合编写T+0策略 |\n",
    "|[fooltrader](https://github.com/foolcage/fooltrader) -> [zvt](https://github.com/zvtvz/zvt) | modular quant framework, 项目升级到zvt, 各有详尽解释|\n",
    "|[vnpy](https://github.com/vnpy/vnpy) | 基于Python, 开源, 量化交易平台开发框架 |\n",
    "|[hikyuu](https://hikyuu.org/)| 开源量化交易研究框架，策略分析, 回测|\n",
    "|[blade-fury](https://github.com/albert-feng/blade-fury)| 采集股票数据，利用统计和计算来选股, 要把项目的路径加入PYTHONPATH才能脚本正常运行|\n",
    "|**模拟/交易**| |\n",
    "|[ricequant/RQAlpha](https://github.com/ricequant/rqalpha)| 数据获取、算法交易、回测引擎，实盘模拟，实盘交易到数据分析 |\n",
    "|[QUANTAXIS](https://github.com/yutiansut/QUANTAXIS) | 任务调度/分布式部署, 股票/期货/期权, 数据/回测/模拟/交易/可视化/多账户 纯本地量化]\n",
    "|[QAStrategy](https://github.com/yutiansut/QAStrategy)| QA-sub1|\n",
    "|[QADemoOLD](https://github.com/QUANTAXIS/QADemoOLD)| QA-sub2 |\n",
    "|**策略** | |\n",
    "|[打板策略](https://github.com/123quant/QMT-QuantLimit)|项目实现了一种量化打板策略，用于A股股票交易，涨停板制度只存在于A股|\n",
    "|[quant_strategy_list5800](https://github.com/fmzquant/strategies?tab=readme-ov-file)|5800 md files|\n",
    "\n",
    "| project | 自测失败或技术底层comments |\n",
    "| --- | ---|\n",
    "|[Sequoia](https://github.com/sngyai/Sequoia) |好学习样本, A股自动选股实现海龟交易法则、缠中说禅牛市买点技术形态,akshare无法下载 |\n",
    "|[ta-lib](https://github.com/TA-Lib/ta-lib-python)|其他包的底层, talib技术指标库 |\n",
    "|[backtesting](https://github.com/kernc/backtesting.py)||\n",
    "|[qstock](https://github.com/tkfy920/qstock) |付费, depends on pyfolio(too old pkg)|\n",
    "|[金融证券知识图谱](https://github.com/kevin-meng/financial_stock_knowledge_graph)| |\n",
    "|[小型金融知识图谱构建流程](https://github.com/jm199504/Financial-Knowledge-Graphs)||\n",
    "|[Code for Machine Learning for Algorithmic Trading, 2ed](https://github.com/stefan-jansen/machine-learning-for-trading)||\n",
    "\n",
    "| project |non-A股 or windows-based不用|\n",
    "| --- | ---|\n",
    "|[stock-analysis](https://github.com/wkingnet/stock-analysis) |说明详细值得读，win-based,目前选股条件是阳包阴，而且当天要涨停 |\n",
    "|[pyfolio](https://github.com/quantopian/pyfolio)| 5 years ago|\n",
    "|[Basana](https://github.com/gbeced/basana)|Python async and event driven framework for algorithmic trading, focus on crypto currencies|\n",
    "\n",
    "**Reference:**\n",
    "- [awesome-quant](https://github.com/thuquant/awesome-quant)中国的Quant相关资源索引\n",
    "- [awesome-stars](https://github.com/dick318/awesome-stars)按语言分类项目, Github\n",
    "- "
   ]
  }
 ],
 "metadata": {
  "language_info": {
   "name": "python"
  }
 },
 "nbformat": 4,
 "nbformat_minor": 5
}
